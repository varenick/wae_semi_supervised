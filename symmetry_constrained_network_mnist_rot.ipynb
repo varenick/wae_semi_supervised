{
 "cells": [
  {
   "cell_type": "code",
   "execution_count": 1,
   "metadata": {
    "collapsed": true
   },
   "outputs": [],
   "source": [
    "import numpy as np\n",
    "import matplotlib.pyplot as plt\n",
    "%matplotlib inline"
   ]
  },
  {
   "cell_type": "code",
   "execution_count": 2,
   "metadata": {
    "collapsed": true
   },
   "outputs": [],
   "source": [
    "import torch\n",
    "import torch.nn as nn\n",
    "import torch.nn.functional as F\n",
    "import torch.autograd as autograd\n",
    "from torch.autograd import Variable\n",
    "import torch.optim as optim"
   ]
  },
  {
   "cell_type": "code",
   "execution_count": 3,
   "metadata": {},
   "outputs": [
    {
     "data": {
      "text/plain": [
       "True"
      ]
     },
     "execution_count": 3,
     "metadata": {},
     "output_type": "execute_result"
    }
   ],
   "source": [
    "USE_CUDA = torch.cuda.is_available()\n",
    "USE_CUDA"
   ]
  },
  {
   "cell_type": "code",
   "execution_count": 4,
   "metadata": {
    "collapsed": true
   },
   "outputs": [],
   "source": [
    "def cuda_wrapper(torch_obj):\n",
    "    if USE_CUDA:\n",
    "        return torch_obj.cuda()\n",
    "    else:\n",
    "        return torch_obj"
   ]
  },
  {
   "cell_type": "code",
   "execution_count": 5,
   "metadata": {
    "collapsed": true
   },
   "outputs": [],
   "source": [
    "train_data_path = 'data/mnist_rot/mnist_all_rotation_normalized_float_train_valid.amat'\n",
    "test_data_path = 'data/mnist_rot/mnist_all_rotation_normalized_float_test.amat'"
   ]
  },
  {
   "cell_type": "code",
   "execution_count": 14,
   "metadata": {},
   "outputs": [
    {
     "data": {
      "text/plain": [
       "((12000, 28, 28), (12000,))"
      ]
     },
     "execution_count": 14,
     "metadata": {},
     "output_type": "execute_result"
    }
   ],
   "source": [
    "train_data = []\n",
    "train_labels = []\n",
    "\n",
    "with open(train_data_path) as file:\n",
    "    for line in file:\n",
    "        line_split = line.split()\n",
    "        train_data.append([float(x) for x in line_split[:-1]])\n",
    "        train_labels.append(int(float(line_split[-1])))\n",
    "        \n",
    "train_data = np.reshape(np.array(train_data), (-1, 28, 28))\n",
    "train_labels = np.array(train_labels)\n",
    "train_data.shape, train_labels.shape"
   ]
  },
  {
   "cell_type": "code",
   "execution_count": 15,
   "metadata": {},
   "outputs": [
    {
     "data": {
      "text/plain": [
       "<matplotlib.image.AxesImage at 0x7eff63c7a240>"
      ]
     },
     "execution_count": 15,
     "metadata": {},
     "output_type": "execute_result"
    },
    {
     "data": {
      "image/png": "[encoded data removed]",
      "text/plain": [
       "<matplotlib.figure.Figure at 0x7eff6d7dfeb8>"
      ]
     },
     "metadata": {},
     "output_type": "display_data"
    }
   ],
   "source": [
    "plt.imshow(train_data[0])"
   ]
  },
  {
   "cell_type": "code",
   "execution_count": 16,
   "metadata": {},
   "outputs": [
    {
     "data": {
      "text/plain": [
       "((50000, 28, 28), (50000,))"
      ]
     },
     "execution_count": 16,
     "metadata": {},
     "output_type": "execute_result"
    }
   ],
   "source": [
    "test_data = []\n",
    "test_labels = []\n",
    "\n",
    "with open(test_data_path) as file:\n",
    "    for line in file:\n",
    "        line_split = line.split()\n",
    "        test_data.append([float(x) for x in line_split[:-1]])\n",
    "        test_labels.append(int(float(line_split[-1])))\n",
    "        \n",
    "test_data = np.reshape(np.array(test_data), (-1, 28, 28))\n",
    "test_labels = np.array(test_labels)\n",
    "test_data.shape, test_labels.shape"
   ]
  },
  {
   "cell_type": "code",
   "execution_count": 17,
   "metadata": {},
   "outputs": [
    {
     "data": {
      "text/plain": [
       "<matplotlib.image.AxesImage at 0x7eff7950d6a0>"
      ]
     },
     "execution_count": 17,
     "metadata": {},
     "output_type": "execute_result"
    },
    {
     "data": {
      "image/png": "[encoded data removed]",
      "text/plain": [
       "<matplotlib.figure.Figure at 0x7eff6d592ba8>"
      ]
     },
     "metadata": {},
     "output_type": "display_data"
    }
   ],
   "source": [
    "plt.imshow(test_data[0])"
   ]
  },
  {
   "cell_type": "code",
   "execution_count": 24,
   "metadata": {
    "collapsed": true
   },
   "outputs": [],
   "source": [
    "train_data = np.expand_dims(train_data, 1)\n",
    "test_data = np.expand_dims(test_data, 1)"
   ]
  },
  {
   "cell_type": "code",
   "execution_count": 18,
   "metadata": {
    "collapsed": true
   },
   "outputs": [],
   "source": [
    "batch_size = 32"
   ]
  },
  {
   "cell_type": "code",
   "execution_count": 19,
   "metadata": {
    "collapsed": true
   },
   "outputs": [],
   "source": [
    "class ModelFullyConnected(nn.Module):\n",
    "    def __init__(self, input_shape, output_size, num_hidden=1, hidden_dim=200, nonlinearity=nn.ReLU):\n",
    "        super(type(self), self).__init__()\n",
    "        self.nonlinearity = nonlinearity()\n",
    "        input_size = int(np.prod(np.array(input_shape, dtype=int)))\n",
    "        self.input_layer = nn.Linear(input_size, hidden_dim)\n",
    "        self.hidden_layers = nn.ModuleList()\n",
    "        for _ in range(num_hidden):\n",
    "            self.hidden_layers.append(nn.Linear(hidden_dim, hidden_dim))\n",
    "        self.output_layer = nn.Linear(hidden_dim, output_size)\n",
    "        \n",
    "    def forward(self, X):\n",
    "        Z = self.input_layer(X.view(X.size(0), -1))\n",
    "        for layer in self.hidden_layers:\n",
    "            Z = layer(self.nonlinearity(Z))\n",
    "        return F.log_softmax(self.output_layer(self.nonlinearity(Z)), dim=1)"
   ]
  },
  {
   "cell_type": "code",
   "execution_count": 44,
   "metadata": {
    "collapsed": true
   },
   "outputs": [],
   "source": [
    "class ModelConvolutional(nn.Module):\n",
    "    def __init__(\n",
    "        self, input_shape, output_size, \n",
    "        num_blocks=1, num_filters=16, filter_size=3, num_dense_units=256, \n",
    "        nonlinearity=nn.ReLU\n",
    "    ):\n",
    "        super(type(self), self).__init__()\n",
    "        assert input_shape[1] == input_shape[2]\n",
    "        shape = input_shape[1]\n",
    "        in_channels = input_shape[0]\n",
    "        out_channels = num_filters // (2 ** (num_blocks-1))\n",
    "        self.hidden_layers = nn.ModuleList()\n",
    "        for i in range(num_blocks):\n",
    "            self.hidden_layers.append(nn.Conv2d(in_channels, out_channels, filter_size))\n",
    "            shape = shape - (filter_size - 1)\n",
    "            self.hidden_layers.append(nonlinearity())\n",
    "            in_channels, out_channels = out_channels, num_filters // (2 ** (num_blocks-i-1))\n",
    "            self.hidden_layers.append(nn.Conv2d(in_channels, out_channels, filter_size))\n",
    "            shape = shape - (filter_size - 1)\n",
    "            self.hidden_layers.append(nn.MaxPool2d(2))\n",
    "            shape = shape // 2\n",
    "            self.hidden_layers.append(nonlinearity())\n",
    "            in_channels, out_channels = out_channels, num_filters // (2 ** (num_blocks-i-2))\n",
    "\n",
    "        #in_channels = num_filters * shape * shape\n",
    "        #out_channels = num_dense_units\n",
    "        self.output_layers = nn.ModuleList()\n",
    "        self.output_layers.append(nn.Linear(num_filters * shape * shape, num_dense_units))\n",
    "        self.output_layers.append(nonlinearity())\n",
    "        self.output_layers.append(nn.Linear(num_dense_units, output_size))\n",
    "        \n",
    "    def forward(self, X):\n",
    "        for layer in self.hidden_layers:\n",
    "            X = layer(X)\n",
    "        X = X.view(X.shape[0], -1)\n",
    "        for layer in self.output_layers:\n",
    "            X = layer(X)\n",
    "        return F.log_softmax(X, dim=1)"
   ]
  },
  {
   "cell_type": "code",
   "execution_count": 20,
   "metadata": {
    "collapsed": true
   },
   "outputs": [],
   "source": [
    "def symmetry_direction(X):\n",
    "    # horizontal translation:\n",
    "    #return torch.cat((X[:, :, :, 1:], X[:, :, :, :1]), dim=-1) - torch.cat((X[:, :, :, -1:], X[:, :, :, :-1]), dim=-1)\n",
    "    \n",
    "    # rotation:\n",
    "    N, C, H, W = X.size()\n",
    "    return -(Variable(cuda_wrapper(torch.arange(H))) - H // 2).view(1, 1, -1, 1) * \\\n",
    "            0.5 * (\n",
    "                torch.cat((X[:, :, :, 1:], X[:, :, :, :1]), dim=-1) - \\\n",
    "                torch.cat((X[:, :, :, -1:], X[:, :, :, :-1]), dim=-1)\n",
    "            ) + (Variable(cuda_wrapper(torch.arange(W))) - W // 2).view(1, 1, 1, -1) * \\\n",
    "            0.5 * (\n",
    "                torch.cat((X[:, :, 1:], X[:, :, :1]), dim=-2) - \\\n",
    "                torch.cat((X[:, :, -1:], X[:, :, :-1]), dim=-2)\n",
    "            )"
   ]
  },
  {
   "cell_type": "code",
   "execution_count": 22,
   "metadata": {
    "collapsed": true
   },
   "outputs": [],
   "source": [
    "def constrain_loss_function(model_output, model_input):\n",
    "    # model_output: [batch_size x num_classes]\n",
    "    # model_input: [batch_size x C x H x W]\n",
    "    batch_size, num_classes = model_output.size()\n",
    "    grad_output_wrt_input_for_each_class = []\n",
    "    for output in torch.unbind(torch.sum(model_output, dim=0)):\n",
    "        grad_output_wrt_input_for_each_class.append(\n",
    "            autograd.grad([output], [model_input], create_graph=True)[0]\n",
    "        ) # [batch_size x C x H x W]\n",
    "    grad_output_wrt_input = torch.stack(grad_output_wrt_input_for_each_class) # [num_classes x batch_size x C x H x W]\n",
    "    sym_dir = symmetry_direction(model_input) # [batch_size x C x H x W]\n",
    "    return torch.sum((grad_output_wrt_input * sym_dir.view(1, *model_input.size())) ** 2) / batch_size"
   ]
  },
  {
   "cell_type": "code",
   "execution_count": 33,
   "metadata": {
    "collapsed": true
   },
   "outputs": [],
   "source": [
    "def batch_generator(data, labels, batch_size):\n",
    "    assert data.shape[0] == labels.shape[0]\n",
    "    data_size = data.shape[0]\n",
    "    indices = np.random.permutation(data_size)\n",
    "    for i in range(0, data_size, batch_size):\n",
    "        if i+batch_size > data_size:\n",
    "            yield torch.from_numpy(data[indices[i:]]).float(), torch.from_numpy(labels[indices[i:]])\n",
    "        else:\n",
    "            yield (\n",
    "                torch.from_numpy(data[indices[i:i+batch_size]]).float(), \n",
    "                torch.from_numpy(labels[indices[i:i+batch_size]])\n",
    "            )"
   ]
  },
  {
   "cell_type": "code",
   "execution_count": 23,
   "metadata": {
    "collapsed": true
   },
   "outputs": [],
   "source": [
    "def random_input_generator(input_shape, batch_size):\n",
    "    while True:\n",
    "        # generate uniform noise:\n",
    "        yield torch.rand(batch_size, *input_shape)"
   ]
  },
  {
   "cell_type": "code",
   "execution_count": 32,
   "metadata": {},
   "outputs": [
    {
     "data": {
      "text/plain": [
       "(12000, 1, 28, 28)"
      ]
     },
     "execution_count": 32,
     "metadata": {},
     "output_type": "execute_result"
    }
   ],
   "source": [
    "train_data.shape"
   ]
  },
  {
   "cell_type": "code",
   "execution_count": 75,
   "metadata": {},
   "outputs": [
    {
     "name": "stdout",
     "output_type": "stream",
     "text": [
      "Epoch 1 of 40 took 52.99s;\n",
      "train loss:\n",
      "data term: 0.02, constrain term: 286.93, full: 0.05\n",
      "train acc: 1.00\n",
      "test loss:\n",
      "data term: 0.19, constrain term: 270.62\n",
      "test acc: 0.94\n",
      "eta = 0.000\n",
      "\n",
      "Epoch 2 of 40 took 53.22s;\n",
      "train loss:\n",
      "data term: 0.02, constrain term: 279.24, full: 0.05\n",
      "train acc: 1.00\n",
      "test loss:\n",
      "data term: 0.28, constrain term: 332.57\n",
      "test acc: 0.92\n",
      "eta = 0.000\n",
      "\n",
      "Epoch 3 of 40 took 53.16s;\n",
      "train loss:\n",
      "data term: 0.02, constrain term: 290.58, full: 0.05\n",
      "train acc: 1.00\n",
      "test loss:\n",
      "data term: 0.18, constrain term: 293.31\n",
      "test acc: 0.94\n",
      "eta = 0.000\n",
      "\n",
      "Epoch 4 of 40 took 53.27s;\n",
      "train loss:\n",
      "data term: 0.02, constrain term: 269.73, full: 0.04\n",
      "train acc: 1.00\n",
      "test loss:\n",
      "data term: 0.20, constrain term: 305.03\n",
      "test acc: 0.94\n",
      "eta = 0.000\n",
      "\n",
      "Epoch 5 of 40 took 53.30s;\n",
      "train loss:\n",
      "data term: 0.02, constrain term: 277.60, full: 0.05\n",
      "train acc: 1.00\n",
      "test loss:\n",
      "data term: 0.22, constrain term: 313.52\n",
      "test acc: 0.93\n",
      "eta = 0.000\n",
      "\n",
      "Epoch 6 of 40 took 52.97s;\n",
      "train loss:\n",
      "data term: 0.02, constrain term: 277.59, full: 0.05\n",
      "train acc: 1.00\n",
      "test loss:\n",
      "data term: 0.17, constrain term: 243.95\n",
      "test acc: 0.95\n",
      "eta = 0.000\n",
      "\n",
      "Epoch 7 of 40 took 53.31s;\n",
      "train loss:\n",
      "data term: 0.03, constrain term: 281.23, full: 0.05\n",
      "train acc: 1.00\n",
      "test loss:\n",
      "data term: 0.18, constrain term: 269.08\n",
      "test acc: 0.94\n",
      "eta = 0.000\n",
      "\n",
      "Epoch 8 of 40 took 52.92s;\n",
      "train loss:\n",
      "data term: 0.02, constrain term: 273.29, full: 0.05\n",
      "train acc: 1.00\n",
      "test loss:\n",
      "data term: 0.18, constrain term: 267.38\n",
      "test acc: 0.94\n",
      "eta = 0.000\n",
      "\n",
      "Epoch 9 of 40 took 53.05s;\n",
      "train loss:\n",
      "data term: 0.02, constrain term: 267.81, full: 0.05\n",
      "train acc: 1.00\n",
      "test loss:\n",
      "data term: 0.23, constrain term: 287.65\n",
      "test acc: 0.93\n",
      "eta = 0.000\n",
      "\n",
      "Epoch 10 of 40 took 53.13s;\n",
      "train loss:\n",
      "data term: 0.02, constrain term: 263.43, full: 0.04\n",
      "train acc: 1.00\n",
      "test loss:\n",
      "data term: 0.18, constrain term: 237.97\n",
      "test acc: 0.95\n",
      "eta = 0.000\n",
      "\n",
      "Epoch 11 of 40 took 52.95s;\n",
      "train loss:\n",
      "data term: 0.02, constrain term: 267.87, full: 0.05\n",
      "train acc: 1.00\n",
      "test loss:\n",
      "data term: 0.23, constrain term: 281.31\n",
      "test acc: 0.93\n",
      "eta = 0.000\n",
      "\n",
      "Epoch 12 of 40 took 53.22s;\n",
      "train loss:\n",
      "data term: 0.01, constrain term: 265.12, full: 0.04\n",
      "train acc: 1.00\n",
      "test loss:\n",
      "data term: 0.18, constrain term: 259.43\n",
      "test acc: 0.94\n",
      "eta = 0.000\n",
      "\n",
      "Epoch 13 of 40 took 53.13s;\n",
      "train loss:\n",
      "data term: 0.01, constrain term: 255.77, full: 0.04\n",
      "train acc: 1.00\n",
      "test loss:\n",
      "data term: 0.17, constrain term: 254.96\n",
      "test acc: 0.95\n",
      "eta = 0.000\n",
      "\n",
      "Epoch 14 of 40 took 53.17s;\n",
      "train loss:\n",
      "data term: 0.03, constrain term: 273.36, full: 0.05\n",
      "train acc: 1.00\n",
      "test loss:\n",
      "data term: 0.18, constrain term: 259.42\n",
      "test acc: 0.94\n",
      "eta = 0.000\n",
      "\n",
      "Epoch 15 of 40 took 53.16s;\n",
      "train loss:\n",
      "data term: 0.02, constrain term: 257.54, full: 0.04\n",
      "train acc: 1.00\n",
      "test loss:\n",
      "data term: 0.20, constrain term: 259.45\n",
      "test acc: 0.94\n",
      "eta = 0.000\n",
      "\n",
      "Epoch 16 of 40 took 53.14s;\n",
      "train loss:\n",
      "data term: 0.01, constrain term: 250.30, full: 0.04\n",
      "train acc: 1.00\n",
      "test loss:\n",
      "data term: 0.19, constrain term: 256.52\n",
      "test acc: 0.94\n",
      "eta = 0.000\n",
      "\n",
      "Epoch 17 of 40 took 53.12s;\n",
      "train loss:\n",
      "data term: 0.02, constrain term: 257.43, full: 0.04\n",
      "train acc: 1.00\n",
      "test loss:\n",
      "data term: 0.18, constrain term: 243.14\n",
      "test acc: 0.94\n",
      "eta = 0.000\n",
      "\n",
      "Epoch 18 of 40 took 53.08s;\n",
      "train loss:\n",
      "data term: 0.01, constrain term: 251.75, full: 0.04\n",
      "train acc: 1.00\n",
      "test loss:\n",
      "data term: 0.18, constrain term: 260.79\n",
      "test acc: 0.94\n",
      "eta = 0.000\n",
      "\n",
      "Epoch 19 of 40 took 53.21s;\n",
      "train loss:\n",
      "data term: 0.03, constrain term: 276.98, full: 0.05\n",
      "train acc: 1.00\n",
      "test loss:\n",
      "data term: 0.18, constrain term: 276.13\n",
      "test acc: 0.94\n",
      "eta = 0.000\n",
      "\n",
      "Epoch 20 of 40 took 53.15s;\n",
      "train loss:\n",
      "data term: 0.01, constrain term: 252.96, full: 0.04\n",
      "train acc: 1.00\n",
      "test loss:\n",
      "data term: 0.18, constrain term: 261.99\n",
      "test acc: 0.94\n",
      "eta = 0.000\n",
      "\n",
      "Epoch 21 of 40 took 53.25s;\n",
      "train loss:\n",
      "data term: 0.02, constrain term: 264.52, full: 0.05\n",
      "train acc: 1.00\n",
      "test loss:\n",
      "data term: 0.19, constrain term: 277.99\n",
      "test acc: 0.94\n",
      "eta = 0.000\n",
      "\n",
      "Epoch 22 of 40 took 53.17s;\n",
      "train loss:\n",
      "data term: 0.01, constrain term: 246.09, full: 0.04\n",
      "train acc: 1.00\n",
      "test loss:\n",
      "data term: 0.18, constrain term: 241.70\n",
      "test acc: 0.95\n",
      "eta = 0.000\n",
      "\n",
      "Epoch 23 of 40 took 53.30s;\n",
      "train loss:\n",
      "data term: 0.01, constrain term: 244.94, full: 0.04\n",
      "train acc: 1.00\n",
      "test loss:\n",
      "data term: 0.19, constrain term: 258.75\n",
      "test acc: 0.94\n",
      "eta = 0.000\n",
      "\n",
      "Epoch 24 of 40 took 53.11s;\n",
      "train loss:\n",
      "data term: 0.02, constrain term: 253.54, full: 0.04\n",
      "train acc: 1.00\n",
      "test loss:\n",
      "data term: 0.20, constrain term: 275.18\n",
      "test acc: 0.94\n",
      "eta = 0.000\n",
      "\n",
      "Epoch 25 of 40 took 53.18s;\n",
      "train loss:\n",
      "data term: 0.02, constrain term: 260.40, full: 0.04\n",
      "train acc: 1.00\n",
      "test loss:\n",
      "data term: 0.18, constrain term: 240.81\n",
      "test acc: 0.94\n",
      "eta = 0.000\n",
      "\n",
      "Epoch 26 of 40 took 52.85s;\n",
      "train loss:\n",
      "data term: 0.02, constrain term: 246.54, full: 0.04\n",
      "train acc: 1.00\n",
      "test loss:\n",
      "data term: 0.19, constrain term: 252.56\n",
      "test acc: 0.94\n",
      "eta = 0.000\n",
      "\n",
      "Epoch 27 of 40 took 52.98s;\n",
      "train loss:\n",
      "data term: 0.02, constrain term: 263.55, full: 0.05\n",
      "train acc: 1.00\n",
      "test loss:\n",
      "data term: 0.20, constrain term: 297.76\n",
      "test acc: 0.94\n",
      "eta = 0.000\n",
      "\n",
      "Epoch 28 of 40 took 53.23s;\n",
      "train loss:\n",
      "data term: 0.01, constrain term: 241.51, full: 0.04\n",
      "train acc: 1.00\n",
      "test loss:\n",
      "data term: 0.16, constrain term: 249.34\n",
      "test acc: 0.95\n",
      "eta = 0.000\n",
      "\n",
      "Epoch 29 of 40 took 53.06s;\n",
      "train loss:\n",
      "data term: 0.01, constrain term: 238.60, full: 0.04\n",
      "train acc: 1.00\n",
      "test loss:\n",
      "data term: 0.17, constrain term: 238.50\n",
      "test acc: 0.95\n",
      "eta = 0.000\n",
      "\n",
      "Epoch 30 of 40 took 53.00s;\n",
      "train loss:\n",
      "data term: 0.02, constrain term: 266.76, full: 0.05\n",
      "train acc: 1.00\n",
      "test loss:\n",
      "data term: 0.19, constrain term: 271.70\n",
      "test acc: 0.94\n",
      "eta = 0.000\n",
      "\n",
      "Epoch 31 of 40 took 53.17s;\n",
      "train loss:\n",
      "data term: 0.02, constrain term: 246.63, full: 0.04\n",
      "train acc: 1.00\n",
      "test loss:\n",
      "data term: 0.18, constrain term: 243.78\n",
      "test acc: 0.94\n",
      "eta = 0.000\n",
      "\n",
      "Epoch 32 of 40 took 53.25s;\n",
      "train loss:\n",
      "data term: 0.02, constrain term: 247.99, full: 0.04\n",
      "train acc: 1.00\n",
      "test loss:\n",
      "data term: 0.19, constrain term: 281.77\n",
      "test acc: 0.94\n",
      "eta = 0.000\n",
      "\n",
      "Epoch 33 of 40 took 53.17s;\n",
      "train loss:\n",
      "data term: 0.01, constrain term: 237.24, full: 0.04\n",
      "train acc: 1.00\n",
      "test loss:\n",
      "data term: 0.17, constrain term: 254.85\n",
      "test acc: 0.95\n",
      "eta = 0.000\n",
      "\n",
      "Epoch 34 of 40 took 53.21s;\n",
      "train loss:\n",
      "data term: 0.01, constrain term: 231.23, full: 0.03\n",
      "train acc: 1.00\n",
      "test loss:\n",
      "data term: 0.17, constrain term: 230.44\n",
      "test acc: 0.95\n",
      "eta = 0.000\n",
      "\n",
      "Epoch 35 of 40 took 53.25s;\n",
      "train loss:\n",
      "data term: 0.01, constrain term: 238.71, full: 0.04\n",
      "train acc: 1.00\n",
      "test loss:\n",
      "data term: 0.22, constrain term: 248.27\n",
      "test acc: 0.93\n",
      "eta = 0.000\n",
      "\n",
      "Epoch 36 of 40 took 53.13s;\n",
      "train loss:\n",
      "data term: 0.03, constrain term: 271.83, full: 0.05\n",
      "train acc: 0.99\n",
      "test loss:\n",
      "data term: 0.17, constrain term: 236.67\n",
      "test acc: 0.95\n",
      "eta = 0.000\n",
      "\n",
      "Epoch 37 of 40 took 53.40s;\n",
      "train loss:\n",
      "data term: 0.01, constrain term: 234.88, full: 0.04\n",
      "train acc: 1.00\n",
      "test loss:\n",
      "data term: 0.18, constrain term: 242.25\n",
      "test acc: 0.95\n",
      "eta = 0.000\n",
      "\n",
      "Epoch 38 of 40 took 53.09s;\n",
      "train loss:\n",
      "data term: 0.01, constrain term: 227.30, full: 0.03\n",
      "train acc: 1.00\n",
      "test loss:\n",
      "data term: 0.18, constrain term: 231.10\n",
      "test acc: 0.95\n",
      "eta = 0.000\n",
      "\n",
      "Epoch 39 of 40 took 53.40s;\n",
      "train loss:\n",
      "data term: 0.01, constrain term: 240.49, full: 0.04\n",
      "train acc: 1.00\n",
      "test loss:\n",
      "data term: 0.17, constrain term: 229.41\n",
      "test acc: 0.95\n",
      "eta = 0.000\n",
      "\n",
      "Epoch 40 of 40 took 53.17s;\n",
      "train loss:\n",
      "data term: 0.01, constrain term: 231.30, full: 0.03\n",
      "train acc: 1.00\n",
      "test loss:\n",
      "data term: 0.16, constrain term: 218.10\n",
      "test acc: 0.95\n",
      "eta = 0.000\n",
      "\n"
     ]
    }
   ],
   "source": [
    "from time import time\n",
    "\n",
    "num_epochs = 40\n",
    "\n",
    "input_shape = (1, 28, 28)\n",
    "output_size = 10\n",
    "\n",
    "eta_start = 0.0001\n",
    "eta_end = eta_start\n",
    "eta_growth_factor = ((eta_end + 1e-8) / (eta_start + 1e-8)) ** (1 / num_epochs)\n",
    "\n",
    "torch.manual_seed(123)\n",
    "np.random.seed(123)\n",
    "#model = cuda_wrapper(ModelFullyConnected(input_shape, output_size, num_hidden=2, hidden_dim=3*32*32))\n",
    "#model = cuda_wrapper(\n",
    "#    ModelConvolutional(\n",
    "#        input_shape, output_size, num_blocks=2, num_filters=32, filter_size=3, num_dense_units=512, nonlinearity=nn.ReLU\n",
    "#    )\n",
    "#)\n",
    "#optimizer = optim.Adam(model.parameters())\n",
    "loss_function = nn.NLLLoss()\n",
    "\n",
    "random_input_gen = random_input_generator(input_shape, batch_size)\n",
    "\n",
    "for epoch in range(num_epochs):\n",
    "    start_time = time()\n",
    "    \n",
    "    eta = eta_start * eta_growth_factor ** epoch\n",
    "            \n",
    "    cum_loss_data = 0\n",
    "    cum_loss_constrain = 0\n",
    "    cum_loss_full = 0\n",
    "    cum_acc = 0\n",
    "    batch_count = 0\n",
    "\n",
    "    train_loader = batch_generator(train_data, train_labels, batch_size)\n",
    "    for X, y in train_loader:\n",
    "        X, y = cuda_wrapper(Variable(X, requires_grad=True)), cuda_wrapper(Variable(y))\n",
    "        prediction = model(X)\n",
    "        \n",
    "        loss_data = loss_function(prediction, y)\n",
    "        cum_loss_data += loss_data.data[0]\n",
    "        \n",
    "        #X_random = cuda_wrapper(Variable(next(random_input_gen), requires_grad=True))\n",
    "        #loss_constrain = constrain_loss_function(model(X_random), X_random)\n",
    "        \n",
    "        loss_constrain = constrain_loss_function(prediction, X)\n",
    "        cum_loss_constrain += loss_constrain.data[0]\n",
    "        \n",
    "        loss_full = loss_data + eta * loss_constrain\n",
    "        #loss_full = loss_data\n",
    "        cum_loss_full += loss_full.data[0]\n",
    "            \n",
    "        acc = torch.mean((torch.max(prediction, dim=-1)[1] == y).float())\n",
    "        cum_acc += acc.data[0]\n",
    "        \n",
    "        optimizer.zero_grad()\n",
    "        loss_full.backward()\n",
    "        optimizer.step()\n",
    "        batch_count += 1\n",
    "            \n",
    "    mean_train_loss_data = cum_loss_data / batch_count\n",
    "    mean_train_loss_constrain = cum_loss_constrain / batch_count\n",
    "    mean_train_loss_full = cum_loss_full / batch_count\n",
    "    mean_train_acc = cum_acc / batch_count\n",
    "\n",
    "    cum_loss_data = 0\n",
    "    cum_loss_constrain = 0\n",
    "    cum_acc = 0\n",
    "    batch_count = 0\n",
    "\n",
    "    test_loader = batch_generator(test_data, test_labels, batch_size)\n",
    "    for X, y in test_loader:\n",
    "        X, y = cuda_wrapper(Variable(X, requires_grad=True)), cuda_wrapper(Variable(y))\n",
    "        prediction = model(X)\n",
    "        loss_data = loss_function(prediction, y)\n",
    "        cum_loss_data += loss_data.data[0]\n",
    "        \n",
    "        loss_constrain = constrain_loss_function(prediction, X)\n",
    "        cum_loss_constrain += loss_constrain.data[0]\n",
    "        \n",
    "        acc = torch.mean((torch.max(prediction, dim=-1)[1] == y).float())\n",
    "        cum_acc += acc.data[0]\n",
    "\n",
    "        batch_count += 1\n",
    "            \n",
    "    mean_test_loss_data = cum_loss_data / batch_count\n",
    "    mean_test_loss_constrain = cum_loss_constrain / batch_count\n",
    "    mean_test_acc = cum_acc / batch_count\n",
    "\n",
    "    print('Epoch {} of {} took {:.2f}s;'.format(epoch+1, num_epochs, time() - start_time))\n",
    "    print('train loss:')\n",
    "    print(\n",
    "        'data term: {:.2f}, constrain term: {:.2f}, full: {:.2f}'.format(\n",
    "            mean_train_loss_data, mean_train_loss_constrain, mean_train_loss_full\n",
    "        )\n",
    "    )\n",
    "    print('train acc: {:.2f}'.format(mean_train_acc))\n",
    "    print('test loss:')\n",
    "    print(\n",
    "        'data term: {:.2f}, constrain term: {:.2f}'.format(\n",
    "            mean_test_loss_data, mean_test_loss_constrain\n",
    "        )\n",
    "    )\n",
    "    print('test acc: {:.2f}'.format(mean_test_acc))\n",
    "    print('eta = {:.3f}'.format(eta))\n",
    "    print()\n"
   ]
  },
  {
   "cell_type": "code",
   "execution_count": null,
   "metadata": {
    "collapsed": true
   },
   "outputs": [],
   "source": [
    "# MNIST-rot. batch_size=32\n",
    "# Constrain term uses log probability\n",
    "# (<data term>, <constrain term>, <train acc>), (<best test loss>, <constrain term>, <best test acc>))\n",
    "\n",
    "# ModelConvolutional(num_blocks=2, num_filters=32, filter_size=3, num_dense_units=512)\n",
    "# Every 10 epochs:\n",
    "# eta=0: {(0.04, 2756.66, 0.99), (0.27, 2650.09, 0.93)}\n",
    "# eta=0.0001: {(0.06, 377.05, 0.98), (0.21, 378.77, 0.93)}, {(0.03, 328.89, 1.00), (0.20, 328.08, 0.94)}, \n",
    "#             {(0.03, 298.84, 1.00), (0.19, 289.73, 0.94)}, {(0.02, 284.55, 1.00), (0.17, 270.56, 0.95)}\n",
    "# eta=0.001: {(0.18, 93.10, 0.96), (0.25, 94.70, 0.93)}, {(0.12, 94.18, 0.98), (0.22, 90.56, 0.94)}, \n",
    "#            {(0.10, 91.95, 0.99), (0.21, 96.31, 0.94)}, {(0.09, 90.46, 0.99), (0.21, 91.67, 0.94)}\n",
    "# eta=0.01: {(0.48, 20.14, 0.90), (0.48, 20.51, 0.89)}, {(0.42, 20.60, 0.92), (0.44, 20.14, 0.91)}, \n",
    "#           {(0.39, 20.57, 0.93), (0.42, 21.28, 0.91)}\n"
   ]
  },
  {
   "cell_type": "code",
   "execution_count": null,
   "metadata": {
    "collapsed": true
   },
   "outputs": [],
   "source": [
    "mean_distances_rot = {}\n",
    "mean_distances_trans = {}"
   ]
  },
  {
   "cell_type": "code",
   "execution_count": 71,
   "metadata": {
    "collapsed": true
   },
   "outputs": [],
   "source": [
    "from scipy.ndimage import rotate\n",
    "\n",
    "mean_distances_rot[eta_start] = []\n",
    "rot_angle_step = 15\n",
    "num_symmetries = 360 // rot_angle_step\n",
    "\n",
    "for k in range(num_symmetries):\n",
    "    distances = []\n",
    "    test_loader = batch_generator(test_data, test_labels, batch_size)\n",
    "    for X, y in test_loader:\n",
    "        X_transformed = torch.from_numpy(\n",
    "            rotate(X.numpy(), k * rot_angle_step, axes=(3, 2), reshape=False, mode='constant', order=3, prefilter=True)\n",
    "        )\n",
    "        log_distr = model(cuda_wrapper(Variable(X))).data\n",
    "        log_distr_transformed = model(cuda_wrapper(Variable(X_transformed))).data\n",
    "        distance = 0.5 * torch.sum(\n",
    "            (torch.exp(log_distr) - torch.exp(log_distr_transformed)) * (log_distr - log_distr_transformed)\n",
    "        ) / batch_size\n",
    "        distances.append(distance)\n",
    "    \n",
    "    mean_distances_rot[eta_start].append(np.mean(np.array(distances)))"
   ]
  },
  {
   "cell_type": "code",
   "execution_count": 72,
   "metadata": {},
   "outputs": [
    {
     "data": {
      "text/plain": [
       "<matplotlib.legend.Legend at 0x7eff342a3048>"
      ]
     },
     "execution_count": 72,
     "metadata": {},
     "output_type": "execute_result"
    },
    {
     "data": {
      "image/png": "[encoded data removed]",
      "text/plain": [
       "<matplotlib.figure.Figure at 0x7eff342a35f8>"
      ]
     },
     "metadata": {},
     "output_type": "display_data"
    }
   ],
   "source": [
    "etas = [0, 0.0001, 0.001, 0.01]\n",
    "\n",
    "for eta in etas:\n",
    "    plt.plot(range(num_symmetries), mean_distances_rot[eta])\n",
    "plt.legend(etas)"
   ]
  },
  {
   "cell_type": "code",
   "execution_count": 73,
   "metadata": {},
   "outputs": [],
   "source": [
    "mean_distances_trans[eta_start] = []\n",
    "\n",
    "num_symmetries_trans = 28\n",
    "for k in range(1, num_symmetries_trans):\n",
    "    distances = []\n",
    "    test_loader = batch_generator(test_data, test_labels, batch_size)\n",
    "    for X, y in test_loader:\n",
    "        X = cuda_wrapper(Variable(X))\n",
    "        X_transformed = torch.cat((X[:, :, :, k:], X[:, :, :, :k]), dim=-1)\n",
    "        log_distr = model(X).data\n",
    "        log_distr_transformed = model(X_transformed).data\n",
    "        distance = 0.5 * torch.sum(\n",
    "            (torch.exp(log_distr) - torch.exp(log_distr_transformed)) * (log_distr - log_distr_transformed)\n",
    "        ) / batch_size\n",
    "        distances.append(distance)\n",
    "    mean_distances_trans[eta_start].append(np.mean(np.array(distances)))"
   ]
  },
  {
   "cell_type": "code",
   "execution_count": 74,
   "metadata": {},
   "outputs": [
    {
     "data": {
      "text/plain": [
       "<matplotlib.legend.Legend at 0x7eff3413bda0>"
      ]
     },
     "execution_count": 74,
     "metadata": {},
     "output_type": "execute_result"
    },
    {
     "data": {
      "image/png": "[encoded data removed]",
      "text/plain": [
       "<matplotlib.figure.Figure at 0x7eff3413beb8>"
      ]
     },
     "metadata": {},
     "output_type": "display_data"
    }
   ],
   "source": [
    "for eta in etas:\n",
    "    plt.plot(range(1, num_symmetries_trans), mean_distances_trans[eta])\n",
    "plt.legend(etas)"
   ]
  },
  {
   "cell_type": "code",
   "execution_count": null,
   "metadata": {
    "collapsed": true
   },
   "outputs": [],
   "source": []
  }
 ],
 "metadata": {
  "kernelspec": {
   "display_name": "Python 3",
   "language": "python",
   "name": "python3"
  },
  "language_info": {
   "codemirror_mode": {
    "name": "ipython",
    "version": 3
   },
   "file_extension": ".py",
   "mimetype": "text/x-python",
   "name": "python",
   "nbconvert_exporter": "python",
   "pygments_lexer": "ipython3",
   "version": "3.6.3"
  }
 },
 "nbformat": 4,
 "nbformat_minor": 2
}
