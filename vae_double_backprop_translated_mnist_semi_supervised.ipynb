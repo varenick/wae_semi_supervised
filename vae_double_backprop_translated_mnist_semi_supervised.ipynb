{
 "cells": [
  {
   "cell_type": "code",
   "execution_count": 1,
   "metadata": {
    "collapsed": true
   },
   "outputs": [],
   "source": [
    "import numpy as np\n",
    "import matplotlib.pyplot as plt\n",
    "%matplotlib inline\n",
    "\n",
    "import pickle\n",
    "\n",
    "from time import time"
   ]
  },
  {
   "cell_type": "code",
   "execution_count": 2,
   "metadata": {
    "collapsed": true
   },
   "outputs": [],
   "source": [
    "from pandas import ewma, DataFrame, Series"
   ]
  },
  {
   "cell_type": "code",
   "execution_count": 3,
   "metadata": {
    "collapsed": true
   },
   "outputs": [],
   "source": [
    "from sklearn.model_selection import train_test_split"
   ]
  },
  {
   "cell_type": "code",
   "execution_count": 4,
   "metadata": {
    "collapsed": true
   },
   "outputs": [],
   "source": [
    "import torch\n",
    "import torch.nn as nn\n",
    "import torch.nn.functional as F\n",
    "import torch.autograd as autograd\n",
    "from torch.autograd import Variable\n",
    "import torch.optim as optim"
   ]
  },
  {
   "cell_type": "code",
   "execution_count": 5,
   "metadata": {},
   "outputs": [
    {
     "data": {
      "text/plain": [
       "'0.4.0'"
      ]
     },
     "execution_count": 5,
     "metadata": {},
     "output_type": "execute_result"
    }
   ],
   "source": [
    "torch.__version__"
   ]
  },
  {
   "cell_type": "code",
   "execution_count": 6,
   "metadata": {},
   "outputs": [
    {
     "data": {
      "text/plain": [
       "True"
      ]
     },
     "execution_count": 6,
     "metadata": {},
     "output_type": "execute_result"
    }
   ],
   "source": [
    "USE_CUDA = torch.cuda.is_available()\n",
    "USE_CUDA"
   ]
  },
  {
   "cell_type": "code",
   "execution_count": 7,
   "metadata": {
    "collapsed": true
   },
   "outputs": [],
   "source": [
    "torch.cuda.set_device(9)"
   ]
  },
  {
   "cell_type": "code",
   "execution_count": 8,
   "metadata": {
    "collapsed": true
   },
   "outputs": [],
   "source": [
    "device = torch.device('cuda' if USE_CUDA else 'cpu')"
   ]
  },
  {
   "cell_type": "code",
   "execution_count": 9,
   "metadata": {
    "collapsed": true
   },
   "outputs": [],
   "source": [
    "from torchvision.datasets import MNIST, CIFAR10\n",
    "from torchvision import transforms\n",
    "from torch.utils.data import TensorDataset, DataLoader"
   ]
  },
  {
   "cell_type": "code",
   "execution_count": 10,
   "metadata": {
    "collapsed": true
   },
   "outputs": [],
   "source": [
    "batch_size = 100\n",
    "original_width, original_height = 28, 28\n",
    "width, height = 48, 48"
   ]
  },
  {
   "cell_type": "code",
   "execution_count": 11,
   "metadata": {
    "collapsed": true
   },
   "outputs": [],
   "source": [
    "kwargs = {'num_workers': 0, 'pin_memory': True} if USE_CUDA else {}\n",
    "\n",
    "dataset = MNIST\n",
    "\n",
    "train_loader = torch.utils.data.DataLoader(\n",
    "    dataset(\n",
    "        './data', train=True, download=True, transform=transforms.Compose([\n",
    "            transforms.RandomChoice(\n",
    "                [transforms.Pad((i, 0, width-original_width-i, 0)) for i in range(width-original_width+1)]\n",
    "            ),\n",
    "            transforms.RandomChoice(\n",
    "                [transforms.Pad((0, i, 0, height-original_height-i)) for i in range(height-original_height+1)]\n",
    "            ),\n",
    "            transforms.ToTensor()\n",
    "        ])\n",
    "    ),\n",
    "    batch_size=batch_size, shuffle=True, **kwargs\n",
    ")\n",
    "\n",
    "test_loader = torch.utils.data.DataLoader(\n",
    "    dataset(\n",
    "        './data', train=False, download=True, transform=transforms.Compose([\n",
    "            transforms.RandomChoice(\n",
    "                [transforms.Pad((i, 0, width-original_width-i, 0)) for i in range(width-original_width+1)]\n",
    "            ),\n",
    "            transforms.RandomChoice(\n",
    "                [transforms.Pad((0, i, 0, height-original_height-i)) for i in range(height-original_height+1)]\n",
    "            ),\n",
    "            transforms.ToTensor()\n",
    "        ])\n",
    "    ),\n",
    "    batch_size=batch_size, shuffle=True, **kwargs\n",
    ")"
   ]
  },
  {
   "cell_type": "code",
   "execution_count": 12,
   "metadata": {
    "collapsed": true
   },
   "outputs": [],
   "source": [
    "np.random.seed(123)\n",
    "\n",
    "train_data = train_loader.dataset.train_data.numpy()\n",
    "padded_train_data = []\n",
    "for i in range(train_data.shape[0]):\n",
    "    right_pad = np.random.choice(width - original_width + 1)\n",
    "    bottom_pad = np.random.choice(height - original_height + 1)\n",
    "    padded_train_data.append(np.pad(\n",
    "        train_data[i], \n",
    "        pad_width=((width-original_width-right_pad, right_pad), (height-original_height-bottom_pad, bottom_pad)),\n",
    "        mode='constant'\n",
    "    ))\n",
    "padded_train_data = np.array(padded_train_data)"
   ]
  },
  {
   "cell_type": "code",
   "execution_count": 13,
   "metadata": {},
   "outputs": [],
   "source": [
    "padded_train_data_loader = torch.utils.data.DataLoader(\n",
    "    TensorDataset(\n",
    "        torch.from_numpy(padded_train_data).float() / 255, \n",
    "        train_loader.dataset.train_labels\n",
    "    ),\n",
    "    batch_size=batch_size, shuffle=True, **kwargs\n",
    ")"
   ]
  },
  {
   "cell_type": "code",
   "execution_count": 14,
   "metadata": {},
   "outputs": [
    {
     "name": "stdout",
     "output_type": "stream",
     "text": [
      "torch.Size([60000, 28, 28])\n",
      "torch.Size([10000, 28, 28])\n",
      "torch.Size([60000, 48, 48])\n"
     ]
    }
   ],
   "source": [
    "print(train_loader.dataset.train_data.shape)\n",
    "print(test_loader.dataset.test_data.shape)\n",
    "print(padded_train_data_loader.dataset.tensors[0].shape)"
   ]
  },
  {
   "cell_type": "code",
   "execution_count": 15,
   "metadata": {
    "collapsed": true
   },
   "outputs": [],
   "source": [
    "input_shape = [1, height, width]\n",
    "output_size = 10"
   ]
  },
  {
   "cell_type": "markdown",
   "metadata": {},
   "source": [
    "**VAE**"
   ]
  },
  {
   "cell_type": "code",
   "execution_count": 19,
   "metadata": {
    "collapsed": true
   },
   "outputs": [],
   "source": [
    "def binary_crossentropy_loss(x_true, x_distr):\n",
    "    \"\"\"\n",
    "    Вычисляет бинарную кроссэнтропию между эмприческим распределением на данные\n",
    "    и индуцированным моделью распределением, т. е. правдоподобие объектов x_true.\n",
    "    Каждому объекту из x_true соответствуют K сэмплированных распределений\n",
    "    на x из x_distr.\n",
    "    i-му объекту соответствуют распределения с номерами i * K, ..., (i + 1) * K - 1.\n",
    "    Требуется вычислить оценку логарифма правдоподобия для каждого объекта.\n",
    "    Подсказка: не забывайте про вычислительную стабильность!\n",
    "\n",
    "    Вход: x_true, Variable - матрица объектов размера n x D.\n",
    "    Вход: x_distr, Variable - матрица параметров распределений Бернулли\n",
    "    размера (n * K) x D.\n",
    "    Выход: Variable, матрица размера n x K - оценки логарифма правдоподобия\n",
    "    каждого сэмпла.\n",
    "    \"\"\"\n",
    "    K = x_distr.shape[0] // x_true.shape[0]\n",
    "    #print(x_true.shape, x_distr.shape)\n",
    "    n, D = x_true.shape\n",
    "    eps = 1e-5\n",
    "    x_distr = torch.clamp(x_distr.view(n, K, D), eps, 1-eps)\n",
    "    x_true = x_true.view(n, 1, D)\n",
    "    return -torch.sum(torch.log(x_distr) * x_true + torch.log(1 - x_distr) * (1 - x_true), dim=2)"
   ]
  },
  {
   "cell_type": "code",
   "execution_count": 20,
   "metadata": {
    "collapsed": true
   },
   "outputs": [],
   "source": [
    "def kl(q_distr, p_distr):\n",
    "    \"\"\"\n",
    "    Вычисляется KL-дивергенция KL(q || p) между n парами гауссиан.\n",
    "    Вход: q_distr, tuple(Variable, Varable). Каждое Variable - матрица размера n x d.\n",
    "    Первое - mu, второе - sigma.\n",
    "    Вход: p_distr, tuple(Variable, Varable). Аналогично.\n",
    "    Возвращаемое значение: Variable, вектор размерности n, каждое значение которого - \n",
    "    - KL-дивергенция между соответствующей парой распределений.\n",
    "    \"\"\"\n",
    "    mu_q, sigma_q = q_distr\n",
    "    mu_p, sigma_p = p_distr\n",
    "    n, d = mu_p.shape\n",
    "    return 0.5 * (\n",
    "        torch.sum(\n",
    "            (sigma_q ** 2 + (mu_p - mu_q) ** 2) / sigma_p ** 2 - 1 + 2 * (torch.log(sigma_p) - torch.log(sigma_q)), dim=1\n",
    "        )\n",
    "    )"
   ]
  },
  {
   "cell_type": "code",
   "execution_count": 21,
   "metadata": {
    "collapsed": true
   },
   "outputs": [],
   "source": [
    "class ReshapeLayer(nn.Module):\n",
    "    def __init__(self, *args):\n",
    "        super(ReshapeLayer, self).__init__()\n",
    "        self.shape = args\n",
    "\n",
    "    def forward(self, x):\n",
    "        return x.view(x.shape[0], *self.shape)"
   ]
  },
  {
   "cell_type": "code",
   "execution_count": 29,
   "metadata": {
    "collapsed": true
   },
   "outputs": [],
   "source": [
    "class VAE(nn.Module):\n",
    "    def __init__(self, input_shape, latent_dim):\n",
    "\n",
    "        super(type(self), self).__init__()\n",
    "        self.input_shape = input_shape\n",
    "        self.latent_dim = latent_dim\n",
    "        \n",
    "        self.proposal_network = nn.Sequential(\n",
    "            ReshapeLayer(*input_shape),\n",
    "            nn.Conv2d(1, 128, 4, padding=1, stride=2), # [128 x 24 x 24]\n",
    "            nn.BatchNorm2d(128),\n",
    "            nn.ReLU(),\n",
    "            nn.Conv2d(128, 256, 4, padding=1, stride=2), # [256 x 12 x 12]\n",
    "            nn.BatchNorm2d(256),\n",
    "            nn.ReLU(),\n",
    "            nn.Conv2d(256, 512, 4, padding=1, stride=2), # [512 x 6 x 6]\n",
    "            nn.BatchNorm2d(512),\n",
    "            nn.ReLU(),\n",
    "            nn.Conv2d(512, 1024, 4, padding=1, stride=2), # [1024 x 3 x 3]\n",
    "            nn.BatchNorm2d(1024),\n",
    "            nn.ReLU(),\n",
    "            ReshapeLayer(1024 * 3 * 3)\n",
    "        )\n",
    "        self.proposal_mu_head = nn.Linear(1024 * 3 * 3, latent_dim)\n",
    "        self.proposal_sigma_head = nn.Linear(1024 * 3 * 3, latent_dim)\n",
    "        \n",
    "        self.generative_network = nn.Sequential(\n",
    "            nn.Linear(latent_dim, 1024 * 3 * 3),\n",
    "            ReshapeLayer(1024, 3, 3), # [1024 x 3 x 3]\n",
    "            nn.ConvTranspose2d(1024, 512, 4, padding=1, stride=2), # [512 x 6 x 6]\n",
    "            nn.BatchNorm2d(512),\n",
    "            nn.ReLU(),\n",
    "            nn.ConvTranspose2d(512, 256, 4, padding=1, stride=2), # [256 x 12 x 12]\n",
    "            nn.BatchNorm2d(256),\n",
    "            nn.ReLU(),\n",
    "            nn.ConvTranspose2d(256, 128, 4, padding=1, stride=2), # [128 x 24 x 24]\n",
    "            nn.BatchNorm2d(128),\n",
    "            nn.ReLU(),\n",
    "            nn.ConvTranspose2d(128, 128, 4, padding=1, stride=2), # [128 x 48 x 48]\n",
    "            nn.BatchNorm2d(128),\n",
    "            nn.ReLU(),\n",
    "            nn.Conv2d(128, 1, 1), # [1 x 48 x 48]\n",
    "            nn.Sigmoid()\n",
    "        )\n",
    "\n",
    "    def prior_distr(self, n):\n",
    "        mu = torch.zeros(n, self.latent_dim, device=device)\n",
    "        sigma = torch.ones(n, self.latent_dim, device=device)\n",
    "        return mu, sigma\n",
    "\n",
    "    def proposal_distr(self, X):\n",
    "        X = self.proposal_network(X)\n",
    "        return self.proposal_mu_head(X), torch.exp(self.proposal_sigma_head(X))\n",
    "\n",
    "    def sample_prior(self, num_samples):\n",
    "        return torch.normal(*self.prior_distr(num_samples))\n",
    "    \n",
    "    def sample_latent(self, mu, sigma):\n",
    "        eps = torch.normal(mean=torch.zeros_like(sigma))\n",
    "        return mu + eps * sigma\n",
    "\n",
    "    def generative_distr(self, Z):\n",
    "        return self.generative_network(Z)\n",
    "\n",
    "    def batch_loss(self, X, return_reconstruction_loss=True, return_penalty_loss=True):\n",
    "        n = X.shape[0]\n",
    "        mu, sigma = self.proposal_distr(X)\n",
    "        Z = self.sample_latent(mu, sigma)\n",
    "        Z_prior = self.sample_prior(n)\n",
    "        if return_reconstruction_loss:\n",
    "            X_rec = self.generative_distr(Z)\n",
    "            #reconstruction_loss = torch.sum((X_rec - X) ** 2) / n\n",
    "            #reconstruction_loss = torch.sum(torch.abs(X_rec - X)) / n\n",
    "            reconstruction_loss = torch.sum(binary_crossentropy_loss(X.view(n, -1), X_rec.view(n, -1))) / n\n",
    "        else:\n",
    "            reconstruction_loss = None\n",
    "        if return_penalty_loss:\n",
    "            penalty_loss = torch.mean(kl((mu, sigma), self.prior_distr(n)))\n",
    "        else:\n",
    "            penalty_loss = None\n",
    "        return reconstruction_loss, penalty_loss\n",
    "\n",
    "    def generate_samples(self, num_samples):\n",
    "        return self.generative_distr(self.sample_prior(num_samples))"
   ]
  },
  {
   "cell_type": "code",
   "execution_count": 30,
   "metadata": {
    "collapsed": true
   },
   "outputs": [],
   "source": [
    "def show_images(x):\n",
    "    plt.figure(figsize=(12, 12 / 10 * (x.shape[0] // 10 + 1)))\n",
    "    for i in range(x.shape[0]):\n",
    "        plt.subplot(x.shape[0] // 10 + 1, 10, i + 1)\n",
    "        plt.imshow(x.data[i].view(height, width).cpu().numpy(), cmap='Greys_r', vmin=0, vmax=1, interpolation='lanczos')\n",
    "        plt.axis('off')"
   ]
  },
  {
   "cell_type": "code",
   "execution_count": null,
   "metadata": {
    "scrolled": true
   },
   "outputs": [
    {
     "name": "stdout",
     "output_type": "stream",
     "text": [
      "Didn't found pretrained VAE; training...\n",
      "Epoch 1 of 200 took 80.71s;\n",
      "train reconstruction loss: 372.53; test reconstruction loss: 162.79\n",
      "train penalty loss: 84.79; test penalty loss: 123.30\n",
      "regularization factor = 0.00\n",
      "\n",
      "Epoch 2 of 200 took 81.42s;\n",
      "train reconstruction loss: 135.50; test reconstruction loss: 119.54\n",
      "train penalty loss: 145.64; test penalty loss: 162.91\n",
      "regularization factor = 0.00\n",
      "\n",
      "Epoch 3 of 200 took 81.61s;\n",
      "train reconstruction loss: 111.97; test reconstruction loss: 107.28\n",
      "train penalty loss: 176.68; test penalty loss: 190.48\n",
      "regularization factor = 0.00\n",
      "\n",
      "Epoch 4 of 200 took 81.68s;\n",
      "train reconstruction loss: 102.89; test reconstruction loss: 99.02\n",
      "train penalty loss: 199.61; test penalty loss: 211.55\n",
      "regularization factor = 0.00\n",
      "\n"
     ]
    }
   ],
   "source": [
    "latent_dim = 10\n",
    "\n",
    "num_epochs = 200\n",
    "save_every = 20\n",
    "\n",
    "name_prefix = 'vae_results_translated_mnist/'\n",
    "\n",
    "#try:\n",
    "if True:\n",
    "#    vae = VAE(input_shape, latent_dim).to(device)\n",
    "#    vae.load_state_dict(torch.load(name_prefix + 'vae.pt'))\n",
    "#    print(\"Found pretrained VAE\")\n",
    "#except:\n",
    "    print(\"Didn't found pretrained VAE; training...\")\n",
    "    \n",
    "    vae = VAE(input_shape, latent_dim).to(device)\n",
    "    optimizer = optim.Adam(\n",
    "        vae.parameters(), lr=3e-4, betas=(0.5, 0.999)\n",
    "    )\n",
    "\n",
    "    scheduler = optim.lr_scheduler.LambdaLR(\n",
    "        optimizer, lambda n: 1 if n < 30 else 0.5 if n < 50 else 0.1 if n < 100 else 0.01\n",
    "    )\n",
    "\n",
    "    for epoch in range(num_epochs):\n",
    "        start_time = time()\n",
    "        \n",
    "        #scheduler.step()\n",
    "        \n",
    "        regularization_factor = np.clip((epoch-5) / (num_epochs//2), 0, 1)\n",
    "        \n",
    "        cum_loss_reconstruction = 0\n",
    "        cum_loss_penalty = 0\n",
    "        batch_count = 0\n",
    "        \n",
    "        for X_batch, _ in padded_train_data_loader:\n",
    "            X_batch = X_batch.to(device)\n",
    "\n",
    "            loss_reconstruction, loss_penalty = vae.batch_loss(X_batch)\n",
    "            cum_loss_reconstruction += loss_reconstruction.item()\n",
    "            cum_loss_penalty += loss_penalty.item()\n",
    "                \n",
    "            optimizer.zero_grad()\n",
    "            (loss_reconstruction + loss_penalty * regularization_factor).backward()\n",
    "            optimizer.step()\n",
    "            batch_count += 1\n",
    "    \n",
    "        mean_train_loss_reconstruction = cum_loss_reconstruction / batch_count\n",
    "        mean_train_loss_penalty = cum_loss_penalty / batch_count\n",
    "\n",
    "        cum_loss_reconstruction = 0\n",
    "        cum_loss_penalty = 0\n",
    "        batch_count = 0\n",
    "        \n",
    "        with torch.no_grad():\n",
    "            for X_batch, _ in test_loader:\n",
    "                X_batch = X_batch.to(device)\n",
    "\n",
    "                loss_reconstruction, loss_penalty = vae.batch_loss(X_batch)\n",
    "                cum_loss_reconstruction += loss_reconstruction.item()\n",
    "                cum_loss_penalty += loss_penalty.item()\n",
    "        \n",
    "                batch_count += 1\n",
    "            \n",
    "        mean_test_loss_reconstruction = cum_loss_reconstruction / batch_count\n",
    "        mean_test_loss_penalty = cum_loss_penalty / batch_count\n",
    "\n",
    "        print('Epoch {} of {} took {:.2f}s;'.format(epoch+1, num_epochs, time() - start_time))\n",
    "        print('train reconstruction loss: {:.2f}; test reconstruction loss: {:.2f}'.format(\n",
    "            mean_train_loss_reconstruction, mean_test_loss_reconstruction\n",
    "        ))\n",
    "        print('train penalty loss: {:.2f}; test penalty loss: {:.2f}'.format(\n",
    "            mean_train_loss_penalty, mean_test_loss_penalty\n",
    "        ))\n",
    "        print('regularization factor = {:.2f}'.format(regularization_factor))\n",
    "        print()\n",
    "        \n",
    "        if (epoch+1) % 5 == 0:\n",
    "            X_batch = next(iter(padded_train_data_loader))[0][:10].to(device)\n",
    "            show_images(X_batch)\n",
    "            plt.show()\n",
    "            show_images(\n",
    "                vae.generative_network(\n",
    "                    vae.sample_latent(\n",
    "                        *vae.proposal_distr(X_batch)\n",
    "                    )\n",
    "                )\n",
    "            )\n",
    "            plt.show()\n",
    "            X_batch = next(iter(test_loader))[0][:10].to(device)\n",
    "            show_images(X_batch)\n",
    "            plt.show()\n",
    "            show_images(\n",
    "                vae.generative_network(\n",
    "                    vae.sample_latent(\n",
    "                        *vae.proposal_distr(X_batch)\n",
    "                    )\n",
    "                )\n",
    "            )\n",
    "            plt.show()\n",
    "            show_images(vae.generate_samples(10))\n",
    "            plt.show()\n",
    "    \n",
    "        if (epoch+1) % save_every == 0:\n",
    "            torch.save(vae.state_dict(), name_prefix + 'vae.pt')\n",
    "        \n"
   ]
  },
  {
   "cell_type": "code",
   "execution_count": null,
   "metadata": {},
   "outputs": [],
   "source": [
    "for label in range(10):\n",
    "    show_images(vae.generate_samples(10))\n",
    "    plt.show()"
   ]
  },
  {
   "cell_type": "markdown",
   "metadata": {},
   "source": [
    "**Double backprop**"
   ]
  },
  {
   "cell_type": "code",
   "execution_count": null,
   "metadata": {
    "collapsed": true
   },
   "outputs": [],
   "source": [
    "def constrain_loss_function(model, generative_model, use_all_classes=False):\n",
    "    latent_dim = generative_model.latent_dim\n",
    "    \n",
    "    z_gen = torch.normal(std=torch.ones(batch_size, latent_dim, device=device)) # [batch_size x latent_dim]\n",
    "    X_gen = generative_model.generative_distr(z_gen).detach().requires_grad_() # [batch_size x C x H x W]\n",
    "    model_logits = model(X_gen) # [batch_size x num_classes]\n",
    "    model_output = F.softmax(model_logits, dim=-1)\n",
    "    \n",
    "    if use_all_classes:\n",
    "        grad_output_wrt_input_for_each_class = []\n",
    "        for output in torch.unbind(torch.sum(model_output, dim=0)):\n",
    "            grad_output_wrt_input_for_each_class.append(\n",
    "                autograd.grad([output], [X_gen], create_graph=True)[0]\n",
    "            ) # [batch_size x latent_dim]\n",
    "        grad_output_wrt_input = torch.stack(\n",
    "            grad_output_wrt_input_for_each_class\n",
    "        ) # [num_classes x batch_size x latent_dim]\n",
    "        return torch.sum(grad_output_wrt_input ** 2) / batch_size\n",
    "    else:\n",
    "        y = np.random.choice(output_size)\n",
    "        output = torch.sum(model_output, dim=0)[y]\n",
    "        grad_output_wrt_input = autograd.grad(\n",
    "            [output], [X_gen], create_graph=True\n",
    "        )[0]\n",
    "        return output_size * torch.sum(grad_output_wrt_input ** 2) / batch_size"
   ]
  },
  {
   "cell_type": "markdown",
   "metadata": {},
   "source": [
    "**Training**"
   ]
  },
  {
   "cell_type": "code",
   "execution_count": null,
   "metadata": {
    "collapsed": true
   },
   "outputs": [],
   "source": [
    "class ModelConvolutional(nn.Module):\n",
    "    def __init__(\n",
    "        self, input_shape, output_size \n",
    "    ):\n",
    "        super(type(self), self).__init__()\n",
    "        #assert input_shape[1] == input_shape[2]\n",
    "        self.layers = nn.ModuleList([\n",
    "            ReshapeLayer(*input_shape),\n",
    "            nn.Dropout(p=0.2),\n",
    "            nn.Conv2d(1, 96, 3, padding=1),\n",
    "            nn.BatchNorm2d(96),\n",
    "            nn.LeakyReLU(negative_slope=0.2),\n",
    "            nn.Conv2d(96, 96, 3, padding=1),\n",
    "            nn.BatchNorm2d(96),\n",
    "            nn.LeakyReLU(negative_slope=0.2),\n",
    "            nn.Conv2d(96, 96, 3, padding=1),\n",
    "            nn.BatchNorm2d(96),\n",
    "            nn.LeakyReLU(negative_slope=0.2),\n",
    "            nn.MaxPool2d(2),\n",
    "            nn.BatchNorm2d(96),\n",
    "            \n",
    "            nn.Dropout(p=0.5),\n",
    "            nn.Conv2d(96, 192, 3, padding=1),\n",
    "            nn.BatchNorm2d(192),\n",
    "            nn.LeakyReLU(negative_slope=0.2),\n",
    "            nn.Conv2d(192, 192, 3, padding=1),\n",
    "            nn.BatchNorm2d(192),\n",
    "            nn.LeakyReLU(negative_slope=0.2),\n",
    "            nn.Conv2d(192, 192, 3, padding=1),\n",
    "            nn.BatchNorm2d(192),\n",
    "            nn.LeakyReLU(negative_slope=0.2),\n",
    "            nn.MaxPool2d(2),\n",
    "            nn.BatchNorm2d(192),\n",
    "            \n",
    "            nn.Dropout(p=0.5),\n",
    "            nn.Conv2d(192, 192, 3),\n",
    "            nn.BatchNorm2d(192),\n",
    "            nn.LeakyReLU(negative_slope=0.2),\n",
    "            nn.Conv2d(192, 192, 1),\n",
    "            nn.BatchNorm2d(192),\n",
    "            nn.LeakyReLU(negative_slope=0.2),\n",
    "            nn.Conv2d(192, 192, 1),\n",
    "            nn.BatchNorm2d(192),\n",
    "            nn.LeakyReLU(negative_slope=0.2),\n",
    "            nn.AvgPool2d(10)\n",
    "        ])\n",
    "        self.output_layer = nn.utils.weight_norm(nn.Linear(192, 10))\n",
    "        \n",
    "    def forward(self, X):\n",
    "        for layer in self.layers:\n",
    "            X = layer(X)\n",
    "        X = X.view(X.shape[0], -1)\n",
    "        return self.output_layer(X)"
   ]
  },
  {
   "cell_type": "code",
   "execution_count": null,
   "metadata": {
    "collapsed": true
   },
   "outputs": [],
   "source": [
    "train_losses = {}\n",
    "train_accs = {}\n",
    "\n",
    "test_losses = {}\n",
    "test_accs = {}"
   ]
  },
  {
   "cell_type": "code",
   "execution_count": null,
   "metadata": {
    "scrolled": true
   },
   "outputs": [],
   "source": [
    "num_epochs = 1000\n",
    "num_runs = 5\n",
    "save_every = 10000\n",
    "\n",
    "etas = [1, 0, 100, 10]\n",
    "for eta in etas:\n",
    "    train_losses[eta] = []\n",
    "    train_accs[eta] = []\n",
    "    \n",
    "    test_losses[eta] = []\n",
    "    test_accs[eta] = []\n",
    "\n",
    "loss_function = nn.CrossEntropyLoss()\n",
    "\n",
    "for run in range(num_runs):\n",
    "    print('run', run+1)\n",
    "\n",
    "    for j, eta in list(enumerate(etas)):\n",
    "        print('eta =', eta)\n",
    "        print()\n",
    "\n",
    "        train_losses[eta].append([])\n",
    "        train_accs[eta].append([])\n",
    "\n",
    "        test_losses[eta].append([])\n",
    "        test_accs[eta].append([])\n",
    "\n",
    "        torch.manual_seed(run)\n",
    "        torch.cuda.manual_seed(run)\n",
    "        np.random.seed(run)\n",
    "\n",
    "        model = ModelConvolutional(input_shape, output_size).to(device)\n",
    "        optimizer = optim.Adam(model.parameters(), lr=1e-4, betas=(0.9, 0.999))\n",
    "        #scheduler = optim.lr_scheduler.LambdaLR(optimizer, lambda k: ((num_epochs-k)/200 if k >= num_epochs-200 else 1))\n",
    "    \n",
    "        train_dataset_labelled, train_dataset_unlabelled, train_labels_labelled, train_labels_unlabelled = train_test_split(\n",
    "            padded_train_data, np.array(train_loader.dataset.train_labels), train_size=50\n",
    "        )\n",
    "        \n",
    "        train_loader_labelled = DataLoader(\n",
    "            TensorDataset(\n",
    "                torch.from_numpy(train_dataset_labelled).float() / 255, \n",
    "                torch.Tensor(train_labels_labelled).long()\n",
    "            ),\n",
    "            batch_size=batch_size, shuffle=True, **kwargs\n",
    "        )\n",
    "        train_loader_unlabelled = DataLoader(\n",
    "            TensorDataset(\n",
    "                torch.from_numpy(train_dataset_unlabelled).float() / 255, \n",
    "                torch.Tensor(train_labels_unlabelled).long()\n",
    "            ),\n",
    "            batch_size=batch_size, shuffle=True, **kwargs\n",
    "        )\n",
    "        \n",
    "        for epoch in range(num_epochs):\n",
    "            start_time = time()\n",
    "    \n",
    "            #scheduler.step()\n",
    "    \n",
    "            cum_loss_data = 0\n",
    "            cum_loss_constrain = 0\n",
    "            cum_loss_full = 0\n",
    "            cum_acc = 0\n",
    "            batch_count = 0\n",
    "\n",
    "            model.train()\n",
    "            train_iter_unlabelled = iter(train_loader_unlabelled)\n",
    "            for X, y in train_loader_labelled:\n",
    "                X, y = X.to(device), y.to(device)\n",
    "                prediction = model(X)\n",
    "                loss_data = loss_function(prediction, y)\n",
    "                cum_loss_data += loss_data.item()\n",
    "        \n",
    "                if eta < 1e-15:\n",
    "                    loss_constrain = torch.tensor(0., device=device)\n",
    "                else:\n",
    "                    loss_constrain = constrain_loss_function(\n",
    "                        model, vae, use_all_classes=False\n",
    "                    )\n",
    "                cum_loss_constrain += loss_constrain.item()\n",
    "        \n",
    "                loss_full = loss_data + eta * loss_constrain\n",
    "                cum_loss_full += loss_full.item()\n",
    "            \n",
    "                acc = torch.mean((torch.max(prediction, dim=-1)[1] == y).float())\n",
    "                cum_acc += acc.item()\n",
    "        \n",
    "                optimizer.zero_grad()\n",
    "                loss_full.backward()\n",
    "                optimizer.step()\n",
    "                batch_count += 1\n",
    "            \n",
    "            mean_train_loss_data = cum_loss_data / batch_count\n",
    "            mean_train_loss_constrain = cum_loss_constrain / batch_count\n",
    "            mean_train_loss_full = cum_loss_full / batch_count\n",
    "            mean_train_acc = cum_acc / batch_count\n",
    "\n",
    "            train_losses[eta][-1].append(mean_train_loss_data)\n",
    "            train_accs[eta][-1].append(mean_train_acc)\n",
    "        \n",
    "            cum_loss_data = 0\n",
    "            cum_loss_constrain = 0\n",
    "            cum_acc = 0\n",
    "            batch_count = 0\n",
    "\n",
    "            model.eval()\n",
    "            with torch.no_grad():\n",
    "                for X, y in test_loader:\n",
    "                    X, y = X.to(device), y.to(device)\n",
    "                    prediction = model(X)\n",
    "                    loss_data = loss_function(prediction, y)\n",
    "                    cum_loss_data += loss_data.item()\n",
    "        \n",
    "                    acc = torch.mean((torch.max(prediction, dim=-1)[1] == y).float())\n",
    "                    cum_acc += acc.item()\n",
    "        \n",
    "                    batch_count += 1\n",
    "            \n",
    "            mean_test_loss_data = cum_loss_data / batch_count\n",
    "            mean_test_loss_constrain = cum_loss_constrain / batch_count\n",
    "            mean_test_acc = cum_acc / batch_count\n",
    "\n",
    "            test_losses[eta][-1].append(mean_test_loss_data)\n",
    "            test_accs[eta][-1].append(mean_test_acc)\n",
    "        \n",
    "            print('Epoch {} of {} took {:.2f}s;'.format(epoch+1, num_epochs, time() - start_time))\n",
    "            print('train loss:')\n",
    "            print(\n",
    "                'data term: {:.2f}, constrain term: {:.2f}, full: {:.2f}'.format(\n",
    "                    mean_train_loss_data, mean_train_loss_constrain, mean_train_loss_full\n",
    "                )\n",
    "            )\n",
    "            print('train acc: {:.2f}'.format(mean_train_acc*100))\n",
    "            print('test loss:')\n",
    "            print(\n",
    "                'data term: {:.2f}, constrain term: {:.2f}'.format(\n",
    "                    mean_test_loss_data, mean_test_loss_constrain\n",
    "                )\n",
    "            )\n",
    "            print('test acc: {:.2f}'.format(mean_test_acc*100))\n",
    "            print()\n",
    "        \n",
    "            if (epoch+1) % save_every == 0:\n",
    "                with open(name_prefix + mode_name + '/train_losses.pkl', 'wb') as f:\n",
    "                    pickle.dump(np.array(train_losses[mode]), f)\n",
    "                with open(name_prefix + mode_name + '/test_losses.pkl', 'wb') as f:\n",
    "                    pickle.dump(np.array(test_losses[mode]), f)\n",
    "                with open(name_prefix + mode_name + '/train_accs.pkl', 'wb') as f:\n",
    "                    pickle.dump(np.array(train_accs[mode]), f)\n",
    "                with open(name_prefix + mode_name + '/test_accs.pkl', 'wb') as f:\n",
    "                    pickle.dump(np.array(test_accs[mode]), f)\n",
    "\n",
    "                torch.save(model.state_dict(), name_prefix + mode_name + '/model.pt')\n",
    "\n",
    "            if (epoch+1) % num_epochs == 0:\n",
    "                alpha=0.1\n",
    "                fig = plt.figure(figsize=(12, 4))\n",
    "                for i in range(j+1 if run==0 else len(etas)):\n",
    "                    curve = DataFrame(train_losses[etas[i]]).ewm(alpha=alpha, axis=1).mean()\n",
    "                    plt.plot(curve.mean(axis=0))\n",
    "                    plt.fill_between(\n",
    "                        np.arange(curve.shape[1]),\n",
    "                        curve.mean(axis=0) - curve.std(axis=0),\n",
    "                        curve.mean(axis=0) + curve.std(axis=0),\n",
    "                        alpha=0.5\n",
    "                    )\n",
    "                plt.show()\n",
    "                fig = plt.figure(figsize=(12, 4))\n",
    "                for i in range(j+1 if run==0 else len(etas)):\n",
    "                    curve = DataFrame(test_losses[etas[i]]).ewm(alpha=alpha, axis=1).mean()\n",
    "                    plt.plot(curve.mean(axis=0))\n",
    "                    plt.fill_between(\n",
    "                        np.arange(curve.shape[1]),\n",
    "                        curve.mean(axis=0) - curve.std(axis=0),\n",
    "                        curve.mean(axis=0) + curve.std(axis=0),\n",
    "                        alpha=0.5\n",
    "                    )\n",
    "                plt.show()\n",
    "                fig = plt.figure(figsize=(12, 4))\n",
    "                for i in range(j+1 if run==0 else len(etas)):\n",
    "                    curve = DataFrame(train_accs[etas[i]]).ewm(alpha=alpha, axis=1).mean()\n",
    "                    plt.plot(curve.mean(axis=0))\n",
    "                    plt.fill_between(\n",
    "                        np.arange(curve.shape[1]),\n",
    "                        curve.mean(axis=0) - curve.std(axis=0),\n",
    "                        curve.mean(axis=0) + curve.std(axis=0),\n",
    "                        alpha=0.5\n",
    "                    )\n",
    "                plt.show()\n",
    "                fig = plt.figure(figsize=(12, 4))\n",
    "                for i in range(j+1 if run==0 else len(etas)):\n",
    "                    curve = DataFrame(test_accs[etas[i]]).ewm(alpha=alpha, axis=1).mean()\n",
    "                    plt.plot(curve.mean(axis=0))\n",
    "                    plt.fill_between(\n",
    "                        np.arange(curve.shape[1]),\n",
    "                        curve.mean(axis=0) - curve.std(axis=0),\n",
    "                        curve.mean(axis=0) + curve.std(axis=0),\n",
    "                        alpha=0.5\n",
    "                    )\n",
    "                plt.ylim(0.5, 0.9)\n",
    "                plt.show()\n",
    "    "
   ]
  },
  {
   "cell_type": "code",
   "execution_count": 26,
   "metadata": {},
   "outputs": [
    {
     "data": {
      "text/plain": [
       "<matplotlib.legend.Legend at 0x7faff7a829b0>"
      ]
     },
     "execution_count": 26,
     "metadata": {},
     "output_type": "execute_result"
    },
    {
     "data": {
      "image/png": "[encoded data removed]",
      "text/plain": [
       "<matplotlib.figure.Figure at 0x7faff7a82a20>"
      ]
     },
     "metadata": {},
     "output_type": "display_data"
    }
   ],
   "source": [
    "plt.figure(figsize=(12, 6))\n",
    "\n",
    "alpha = 0.1\n",
    "for mode in modes:\n",
    "    curve = DataFrame(test_accs[mode]).ewm(alpha=alpha, axis=1).mean()\n",
    "    plt.plot(curve.mean(axis=0))\n",
    "    plt.fill_between(\n",
    "        range(num_epochs),\n",
    "        curve.mean(axis=0) - curve.std(axis=0),\n",
    "        curve.mean(axis=0) + curve.std(axis=0),\n",
    "        alpha=0.5\n",
    "    )\n",
    "plt.ylim(0.7, 1.0)\n",
    "plt.legend(modes)"
   ]
  },
  {
   "cell_type": "code",
   "execution_count": 27,
   "metadata": {},
   "outputs": [
    {
     "name": "stdout",
     "output_type": "stream",
     "text": [
      "stochastic_manifold_reg_on_train_data__eta=0: 91.89 +- 1.12\n",
      "stochastic_manifold_reg_on_train_data__eta=1e-06: 87.60 +- 5.80\n",
      "stochastic_manifold_reg_on_train_data__eta=1e-05: 87.61 +- 5.22\n",
      "stochastic_manifold_reg_on_train_data__eta=0.0001: 87.80 +- 5.61\n",
      "stochastic_manifold_reg_on_train_data__eta=0.001: 88.58 +- 5.26\n",
      "stochastic_manifold_reg_on_train_data__eta=0.01: 89.45 +- 4.56\n"
     ]
    }
   ],
   "source": [
    "for mode in modes:\n",
    "    print('{}: {:.2f} +- {:.2f}'.format(\n",
    "        mode, \n",
    "        DataFrame(test_accs[mode]).ewm(alpha=alpha, axis=1).mean().mean(axis=0).max() * 100, \n",
    "        DataFrame(test_accs[mode]).ewm(alpha=alpha, axis=1).mean().std(axis=0)[\n",
    "            np.argmax(DataFrame(test_accs[mode]).ewm(alpha=alpha, axis=1).mean().mean(axis=0))\n",
    "        ] * 100, \n",
    "    ))"
   ]
  },
  {
   "cell_type": "code",
   "execution_count": null,
   "metadata": {
    "collapsed": true
   },
   "outputs": [],
   "source": []
  }
 ],
 "metadata": {
  "kernelspec": {
   "display_name": "Python 3",
   "language": "python",
   "name": "python3"
  },
  "language_info": {
   "codemirror_mode": {
    "name": "ipython",
    "version": 3
   },
   "file_extension": ".py",
   "mimetype": "text/x-python",
   "name": "python",
   "nbconvert_exporter": "python",
   "pygments_lexer": "ipython3",
   "version": "3.6.3"
  }
 },
 "nbformat": 4,
 "nbformat_minor": 2
}
